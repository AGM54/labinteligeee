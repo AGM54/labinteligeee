{
 "cells": [
  {
   "cell_type": "markdown",
   "metadata": {},
   "source": [
    "# Task2 \n",
    "## tashk 2.1 y 2.2: \n",
    "Definir las variables y restringir días así como la relación para los estudiantes y los cursos que tienen"
   ]
  },
  {
   "cell_type": "code",
   "execution_count": 26,
   "metadata": {},
   "outputs": [],
   "source": [
    "import random\n",
    "import time\n",
    "import math\n",
    "\n",
    "# Definir las variables y dominios\n",
    "examenes = [\"Quimica\", \"Biología\", \"Matemáticas\", \"Física\", \"Algoritmos\", \"Diseño de datos\", \"Literatura\"]\n",
    "dias = [\"Lunes\", \"Martes\", \"Miercoles\"]\n",
    "\n",
    "# Relaciones entre estudiantes y exámenes\n",
    "estudiantes_examenes = [\n",
    "    (\"Estudiante1\", \"Quimica\"),\n",
    "    (\"Student\", \"Biología\"),\n",
    "    (\"Student\", \"Diseño de datos\"),\n",
    "    (\"Estudiante2\", \"Biología\"),\n",
    "    (\"Estudiante2\", \"Matemáticas\"),\n",
    "    (\"Estudiante2\", \"Diseño de datos\"),\n",
    "    (\"Estudiante3\", \"Matemáticas\"),\n",
    "    (\"Estudiante3\", \"Física\"),\n",
    "    (\"Estudiante3\", \"Literatura\"),\n",
    "    (\"Estudiante4\", \"Física\"),\n",
    "    (\"Estudiante4\", \"Algoritmos\"),\n",
    "    (\"Estudiante4\", \"Literatura\")\n",
    "]"
   ]
  },
  {
   "cell_type": "markdown",
   "metadata": {},
   "source": [
    "### 2.3 backtraking search"
   ]
  },
  {
   "cell_type": "code",
   "execution_count": 68,
   "metadata": {},
   "outputs": [],
   "source": [
    "def backtrack(assigned_tests, student_index):\n",
    "  \"\"\"\n",
    "  This function recursively assigns tests to students using backtracking.\n",
    "\n",
    "  Args:\n",
    "      assigned_tests: A dictionary where keys are students and values are lists of assigned tests.\n",
    "      student_index: The index of the current student being processed.\n",
    "\n",
    "  Returns:\n",
    "      True if a valid assignment is found, False otherwise.\n",
    "  \"\"\"\n",
    "  if student_index == len(estudiantes_examenes):\n",
    "    # All students have been assigned tests, return True\n",
    "    return True\n",
    "\n",
    "  student, exam = estudiantes_examenes[student_index]\n",
    "   # Check if exam can be assigned to any of the three days\n",
    "  for day in dias:\n",
    "    if is_valid_assignment(assigned_tests, student, exam, day):\n",
    "      # Assign the exam to the student for that day\n",
    "      assigned_tests.setdefault(student, []).append((day, exam))\n",
    "      \n",
    "      # Try assigning tests to the next student\n",
    "      if backtrack(assigned_tests, student_index + 1):\n",
    "        return True\n",
    "\n",
    "      # Backtrack if assignment didn't lead to a solution, remove assigned exam\n",
    "      assigned_tests[student].pop()\n",
    "\n",
    "  return False\n",
    "\n",
    "\n",
    "def is_valid_assignment(assigned_tests, student, exam, day):\n",
    "  \"\"\"\n",
    "  This function checks if assigning a test to a student on a specific day is valid.\n",
    "\n",
    "  Args:\n",
    "      assigned_tests: A dictionary where keys are students and values are lists of assigned tests.\n",
    "      student: The student for whom the assignment is being considered.\n",
    "      exam: The exam being assigned.\n",
    "      day: The day on which the exam is being considered.\n",
    "\n",
    "  Returns:\n",
    "      True if the assignment is valid, False otherwise.\n",
    "  \"\"\"\n",
    "  # Check if student already has a test assigned on that day\n",
    "  if student in assigned_tests and any(assigned_day == day for assigned_day, _ in assigned_tests[student]):\n",
    "    return False\n",
    "\n",
    "  # Check if another student has the same exam assigned on that day\n",
    "  for other_student, other_exams in assigned_tests.items():\n",
    "    if student != other_student and (exam,day) in other_exams:\n",
    "      return False\n",
    "\n",
    "  return True\n"
   ]
  },
  {
   "cell_type": "code",
   "execution_count": 69,
   "metadata": {},
   "outputs": [
    {
     "name": "stdout",
     "output_type": "stream",
     "text": [
      "Student: Estudiante1\n",
      "\t- Lunes: Quimica\n",
      "\t- Martes: Biología\n",
      "\t- Miercoles: Diseño de datos\n",
      "Student: Estudiante2\n",
      "\t- Lunes: Biología\n",
      "\t- Martes: Matemáticas\n",
      "\t- Miercoles: Diseño de datos\n",
      "Student: Estudiante3\n",
      "\t- Lunes: Matemáticas\n",
      "\t- Martes: Física\n",
      "\t- Miercoles: Literatura\n",
      "Student: Estudiante4\n",
      "\t- Lunes: Física\n",
      "\t- Martes: Algoritmos\n",
      "\t- Miercoles: Literatura\n"
     ]
    }
   ],
   "source": [
    "\n",
    "assigned_tests = {}\n",
    "if backtrack(assigned_tests, 0):\n",
    "  # Print the assigned tests\n",
    "  for student, student_tests in assigned_tests.items():\n",
    "    print(f\"Student: {student}\")\n",
    "    for day, exam in student_tests:\n",
    "      print(f\"\\t- {day}: {exam}\")\n",
    "else:\n",
    "  print(\"No valid assignment found for all students.\")\n"
   ]
  },
  {
   "cell_type": "markdown",
   "metadata": {},
   "source": [
    "### 2.4 beam search algorithm"
   ]
  },
  {
   "cell_type": "code",
   "execution_count": 39,
   "metadata": {},
   "outputs": [],
   "source": [
    "def beam_search_exam_calendars(examenes, estudiantes_examenes, dias, beam_width):\n",
    "    calendars = {}  # Diccionario para almacenar los calendarios de exámenes de cada estudiante\n",
    "    \n",
    "    # Iterar sobre cada estudiante\n",
    "    for estudiante in set([estudiante for estudiante, examen in estudiantes_examenes]):\n",
    "        # Filtrar los exámenes específicos para este estudiante\n",
    "        exames_estudiante = [examen for est, examen in estudiantes_examenes if est == estudiante]\n",
    "        # Inicializar el conjunto de soluciones con una solución vacía\n",
    "        soluciones = [{}]\n",
    "        # Iterar a través de cada examen del estudiante\n",
    "        for examen in exames_estudiante:\n",
    "            nuevas_soluciones = []\n",
    "            # Expandir cada solución candidata en el conjunto actual\n",
    "            for asignacion in soluciones:\n",
    "                # Probar cada día posible para el examen actual\n",
    "                for dia in dias:\n",
    "                    # Verificar si el día satisface las restricciones\n",
    "                    if dia_valido(estudiante, examen, dia, asignacion, estudiantes_examenes):\n",
    "                        # Crear una nueva asignación basada en la asignación actual y el nuevo examen\n",
    "                        nueva_asignacion = asignacion.copy()\n",
    "                        nueva_asignacion[examen] = dia\n",
    "                        # Agregar la nueva asignación al conjunto de nuevas soluciones\n",
    "                        nuevas_soluciones.append(nueva_asignacion)\n",
    "            \n",
    "            # Seleccionar las mejores soluciones basadas en una heurística (cantidad de restricciones incumplidas)\n",
    "            soluciones = sorted(nuevas_soluciones, key=lambda x: contar_restricciones_incumplidas(x, estudiantes_examenes))[:beam_width]\n",
    "        \n",
    "        # Seleccionar la mejor solución encontrada para este estudiante\n",
    "        mejor_solucion = min(soluciones, key=lambda x: contar_restricciones_incumplidas(x, estudiantes_examenes))\n",
    "        calendars[estudiante] = mejor_solucion\n",
    "    \n",
    "    return calendars\n",
    "\n",
    "# Función para verificar si un día satisface las restricciones para un estudiante\n",
    "def dia_valido(estudiante, examen, dia, asignacion, estudiantes_examenes):\n",
    "    # Verificar restricción: Todos los exámenes en días diferentes\n",
    "    if dia in asignacion.values():\n",
    "        return False\n",
    "    \n",
    "    # Verificar restricción: Ningún estudiante tiene más de un examen por día\n",
    "    estudiantes_con_examen = [estudiante for estudiante, examen_asignado in asignacion.items() if examen_asignado == dia]\n",
    "    if len(estudiantes_con_examen) > 1:\n",
    "        return False\n",
    "    \n",
    "    # Verificar restricción: Los estudiantes que toman el mismo curso no pueden tener exámenes programados para el mismo día\n",
    "    for otro_estudiante, otro_examen in asignacion.items():\n",
    "        if estudiante != otro_estudiante and (estudiante, examen) in estudiantes_examenes and (otro_estudiante, otro_examen) in estudiantes_examenes:\n",
    "            return False\n",
    "    \n",
    "    return True\n",
    "\n",
    "# Función para contar la cantidad de restricciones incumplidas en una asignación\n",
    "def contar_restricciones_incumplidas(asignacion, estudiantes_examenes):\n",
    "    restricciones_incumplidas = 0\n",
    "    \n",
    "    # Verificar restricción: Todos los exámenes en días diferentes\n",
    "    dias_asignados = list(asignacion.values())\n",
    "    dias_unicos = set(dias_asignados)\n",
    "    restricciones_incumplidas += len(dias_asignados) - len(dias_unicos)\n",
    "    \n",
    "    # Verificar restricción: Ningún estudiante tiene más de un examen por día\n",
    "    for dia in dias_unicos:\n",
    "        estudiantes_con_examen = [estudiante for estudiante, examen_asignado in asignacion.items() if examen_asignado == dia]\n",
    "        restricciones_incumplidas += max(0, len(estudiantes_con_examen) - 1)\n",
    "    \n",
    "    # Verificar restricción: Los estudiantes que toman el mismo curso no pueden tener exámenes programados para el mismo día\n",
    "    for estudiante, examen_asignado in asignacion.items():\n",
    "        for otro_estudiante, otro_examen in asignacion.items():\n",
    "            if estudiante != otro_estudiante and (estudiante, otro_examen) in estudiantes_examenes and (otro_estudiante, examen_asignado) in estudiantes_examenes:\n",
    "                restricciones_incumplidas += 1\n",
    "    \n",
    "    return restricciones_incumplidas"
   ]
  },
  {
   "cell_type": "code",
   "execution_count": 41,
   "metadata": {},
   "outputs": [
    {
     "name": "stdout",
     "output_type": "stream",
     "text": [
      "Calendario de exámenes para Estudiante4: {'Física': 'Lunes', 'Algoritmos': 'Martes', 'Literatura': 'Miercoles'}\n",
      "Calendario de exámenes para Estudiante3: {'Matemáticas': 'Lunes', 'Física': 'Martes', 'Literatura': 'Miercoles'}\n",
      "Calendario de exámenes para Estudiante1: {'Quimica': 'Lunes', 'Biología': 'Martes', 'Diseño de datos': 'Miercoles'}\n",
      "Calendario de exámenes para Estudiante2: {'Biología': 'Lunes', 'Matemáticas': 'Martes', 'Diseño de datos': 'Miercoles'}\n"
     ]
    }
   ],
   "source": [
    "beam_width = 3  \n",
    "calendarios_examenes = beam_search_exam_calendars(examenes, estudiantes_examenes, dias, beam_width)\n",
    "for estudiante, calendario in calendarios_examenes.items():\n",
    "    print(f\"Calendario de exámenes para {estudiante}: {calendario}\")"
   ]
  },
  {
   "cell_type": "markdown",
   "metadata": {},
   "source": [
    "### 2.5 local search algorithm"
   ]
  },
  {
   "cell_type": "code",
   "execution_count": 3,
   "metadata": {},
   "outputs": [
    {
     "name": "stdout",
     "output_type": "stream",
     "text": [
      "Solución final: {'Quimica': 'Miercoles', 'Biología': 'Martes', 'Matemáticas': 'Miercoles', 'Física': 'Martes', 'Algoritmos': 'Lunes', 'Diseño de datos': 'Lunes', 'Literatura': 'Miercoles'}\n",
      "Tiempo de ejecución: 0.0009756088256835938 segundos\n"
     ]
    }
   ],
   "source": [
    "# Asignar un día inicial aleatorio a cada examen\n",
    "solucion_inicial = {examen: random.choice(dias) for examen in examenes}\n",
    "\n",
    "# Definir la función de restricciones\n",
    "def restricciones(solucion):\n",
    "    # Comprobar que todos los exámenes se realicen en días diferentes\n",
    "    if len(set(solucion.values())) < len(examenes):\n",
    "        return False\n",
    "    \n",
    "    # Comprobar que ningún estudiante tenga más de un examen por día\n",
    "    for estudiante in set(estudiante for estudiante, examen in estudiantes_examenes):\n",
    "        dias_examenes_estudiante = [solucion[examen] for estudiante_, examen in estudiantes_examenes if estudiante_ == estudiante]\n",
    "        if len(dias_examenes_estudiante) != len(set(dias_examenes_estudiante)):\n",
    "            return False\n",
    "    \n",
    "    # Comprobar que los estudiantes que toman el mismo curso no tengan exámenes el mismo día\n",
    "    for estudiante1, Quimica in estudiantes_examenes:\n",
    "        for estudiante2, Biología in estudiantes_examenes:\n",
    "            if Quimica == Biología and estudiante1 != estudiante2:\n",
    "                if solucion[Quimica] == solucion[Biología]:\n",
    "                    return False\n",
    "\n",
    "    return True\n",
    "\n",
    "# Función de evaluación para medir qué tan buena es una solución\n",
    "def evaluar_solucion(solucion):\n",
    "    violaciones = 0\n",
    "    for estudiante in set(estudiante for estudiante, examen in estudiantes_examenes):\n",
    "        dias_examenes_estudiante = [solucion[examen] for estudiante_, examen in estudiantes_examenes if estudiante_ == estudiante]\n",
    "        violaciones += len(dias_examenes_estudiante) - len(set(dias_examenes_estudiante))\n",
    "    return violaciones\n",
    "\n",
    "# Algoritmo de búsqueda local mejorado con enfriamiento simulado\n",
    "def local_search_enhanced(solucion):\n",
    "    iteraciones = 0\n",
    "    inicio = time.time()\n",
    "    temperatura = 1.0\n",
    "    tasa_enfriamiento = 0.95\n",
    "    mejor_solucion = solucion.copy()\n",
    "    mejor_evaluacion = evaluar_solucion(mejor_solucion)\n",
    "    while temperatura > 0.01 and iteraciones < 10000:\n",
    "        examen_aleatorio = random.choice(examenes)\n",
    "        dia_aleatorio = random.choice(dias)\n",
    "        solucion_anterior = solucion.copy()\n",
    "        solucion[examen_aleatorio] = dia_aleatorio\n",
    "        evaluacion_actual = evaluar_solucion(solucion)\n",
    "        if evaluacion_actual < mejor_evaluacion:\n",
    "            mejor_solucion = solucion.copy()\n",
    "            mejor_evaluacion = evaluacion_actual\n",
    "        elif math.exp((mejor_evaluacion - evaluacion_actual) / temperatura) > random.random():\n",
    "            solucion = solucion_anterior\n",
    "        temperatura *= tasa_enfriamiento\n",
    "        iteraciones += 1\n",
    "    fin = time.time()\n",
    "    tiempo_ejecucion = fin - inicio\n",
    "    return mejor_solucion, tiempo_ejecucion\n",
    "\n",
    "# Solución\n",
    "solucion_final, tiempo_ejecucion = local_search_enhanced(solucion_inicial)\n",
    "print(\"Solución final:\", solucion_final)\n",
    "print(\"Tiempo de ejecución:\", tiempo_ejecucion, \"segundos\")\n"
   ]
  },
  {
   "cell_type": "markdown",
   "metadata": {},
   "source": [
    "El algoritmo de búsqueda local demostró ser rápido, con un tiempo de ejecución de aproximadamente 0.000 segundos para el problema de programación de exámenes,fue bastante óptimo encontrando la solución."
   ]
  }
 ],
 "metadata": {
  "kernelspec": {
   "display_name": "Python 3",
   "language": "python",
   "name": "python3"
  },
  "language_info": {
   "codemirror_mode": {
    "name": "ipython",
    "version": 3
   },
   "file_extension": ".py",
   "mimetype": "text/x-python",
   "name": "python",
   "nbconvert_exporter": "python",
   "pygments_lexer": "ipython3",
   "version": "3.11.3"
  }
 },
 "nbformat": 4,
 "nbformat_minor": 2
}
