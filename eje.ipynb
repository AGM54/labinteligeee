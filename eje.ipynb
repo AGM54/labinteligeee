{
 "cells": [
  {
   "cell_type": "code",
   "execution_count": 16,
   "metadata": {},
   "outputs": [
    {
     "name": "stdout",
     "output_type": "stream",
     "text": [
      "Solución final: {'Examen1': 'Lunes', 'Examen2': 'Miercoles', 'Examen3': 'Lunes', 'Examen4': 'Miercoles', 'Examen5': 'Martes', 'Examen6': 'Martes', 'Examen7': 'Martes'}\n",
      "Tiempo de ejecución: 0.0 segundos\n"
     ]
    }
   ],
   "source": [
    "import random\n",
    "import time\n",
    "import math\n",
    "\n",
    "# Definir las variables y dominios\n",
    "examenes = [\"Examen1\", \"Examen2\", \"Examen3\", \"Examen4\", \"Examen5\", \"Examen6\", \"Examen7\"]\n",
    "dias = [\"Lunes\", \"Martes\", \"Miercoles\"]\n",
    "\n",
    "# Relaciones entre estudiantes y exámenes\n",
    "estudiantes_examenes = [\n",
    "    (\"Estudiante1\", \"Examen1\"),\n",
    "    (\"Estudiante1\", \"Examen2\"),\n",
    "    (\"Estudiante2\", \"Examen2\"),\n",
    "    (\"Estudiante2\", \"Examen3\"),\n",
    "    (\"Estudiante3\", \"Examen3\"),\n",
    "    (\"Estudiante3\", \"Examen4\"),\n",
    "    (\"Estudiante4\", \"Examen4\"),\n",
    "    (\"Estudiante4\", \"Examen5\"),\n",
    "    (\"Estudiante1\", \"Examen6\"),\n",
    "    (\"Estudiante2\", \"Examen6\"),\n",
    "    (\"Estudiante3\", \"Examen7\"),\n",
    "    (\"Estudiante4\", \"Examen7\"),\n",
    "]\n",
    "\n",
    "# Asignar un día inicial aleatorio a cada examen\n",
    "solucion_inicial = {examen: random.choice(dias) for examen in examenes}\n",
    "\n",
    "# Definir la función de restricciones\n",
    "def restricciones(solucion):\n",
    "    # Comprobar que todos los exámenes se realicen en días diferentes\n",
    "    if len(set(solucion.values())) < len(examenes):\n",
    "        return False\n",
    "    \n",
    "    # Comprobar que ningún estudiante tenga más de un examen por día\n",
    "    for estudiante in set(estudiante for estudiante, examen in estudiantes_examenes):\n",
    "        dias_examenes_estudiante = [solucion[examen] for estudiante_, examen in estudiantes_examenes if estudiante_ == estudiante]\n",
    "        if len(dias_examenes_estudiante) != len(set(dias_examenes_estudiante)):\n",
    "            return False\n",
    "    \n",
    "    # Comprobar que los estudiantes que toman el mismo curso no tengan exámenes el mismo día\n",
    "    for estudiante1, examen1 in estudiantes_examenes:\n",
    "        for estudiante2, examen2 in estudiantes_examenes:\n",
    "            if examen1 == examen2 and estudiante1 != estudiante2:\n",
    "                if solucion[examen1] == solucion[examen2]:\n",
    "                    return False\n",
    "\n",
    "    return True\n",
    "\n",
    "# Función de evaluación para medir qué tan buena es una solución\n",
    "def evaluar_solucion(solucion):\n",
    "    violaciones = 0\n",
    "    for estudiante in set(estudiante for estudiante, examen in estudiantes_examenes):\n",
    "        dias_examenes_estudiante = [solucion[examen] for estudiante_, examen in estudiantes_examenes if estudiante_ == estudiante]\n",
    "        violaciones += len(dias_examenes_estudiante) - len(set(dias_examenes_estudiante))\n",
    "    return violaciones\n",
    "\n",
    "# Algoritmo de búsqueda local mejorado con enfriamiento simulado\n",
    "def local_search_enhanced(solucion):\n",
    "    iteraciones = 0\n",
    "    inicio = time.time()\n",
    "    temperatura = 1.0\n",
    "    tasa_enfriamiento = 0.95\n",
    "    mejor_solucion = solucion.copy()\n",
    "    mejor_evaluacion = evaluar_solucion(mejor_solucion)\n",
    "    while temperatura > 0.01 and iteraciones < 10000:\n",
    "        examen_aleatorio = random.choice(examenes)\n",
    "        dia_aleatorio = random.choice(dias)\n",
    "        solucion_anterior = solucion.copy()\n",
    "        solucion[examen_aleatorio] = dia_aleatorio\n",
    "        evaluacion_actual = evaluar_solucion(solucion)\n",
    "        if evaluacion_actual < mejor_evaluacion:\n",
    "            mejor_solucion = solucion.copy()\n",
    "            mejor_evaluacion = evaluacion_actual\n",
    "        elif math.exp((mejor_evaluacion - evaluacion_actual) / temperatura) > random.random():\n",
    "            solucion = solucion_anterior\n",
    "        temperatura *= tasa_enfriamiento\n",
    "        iteraciones += 1\n",
    "    fin = time.time()\n",
    "    tiempo_ejecucion = fin - inicio\n",
    "    return mejor_solucion, tiempo_ejecucion\n",
    "\n",
    "# Solución\n",
    "solucion_final, tiempo_ejecucion = local_search_enhanced(solucion_inicial)\n",
    "print(\"Solución final:\", solucion_final)\n",
    "print(\"Tiempo de ejecución:\", tiempo_ejecucion, \"segundos\")\n"
   ]
  },
  {
   "cell_type": "markdown",
   "metadata": {},
   "source": [
    "El algoritmo de búsqueda local demostró ser rápido, con un tiempo de ejecución de aproximadamente 0.000 segundos para el problema de programación de exámenes,fue bastante óptimo encontrando la solución."
   ]
  }
 ],
 "metadata": {
  "kernelspec": {
   "display_name": "Python 3",
   "language": "python",
   "name": "python3"
  },
  "language_info": {
   "codemirror_mode": {
    "name": "ipython",
    "version": 3
   },
   "file_extension": ".py",
   "mimetype": "text/x-python",
   "name": "python",
   "nbconvert_exporter": "python",
   "pygments_lexer": "ipython3",
   "version": "3.12.1"
  }
 },
 "nbformat": 4,
 "nbformat_minor": 2
}
