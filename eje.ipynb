{
 "cells": [
  {
   "cell_type": "code",
   "execution_count": 13,
   "metadata": {},
   "outputs": [
    {
     "name": "stdout",
     "output_type": "stream",
     "text": [
      "Solución final: {'Examen1': 'Martes', 'Examen2': 'Miercoles', 'Examen3': 'Lunes', 'Examen4': 'Martes', 'Examen5': 'Miercoles', 'Examen6': 'Martes', 'Examen7': 'Lunes'}\n"
     ]
    }
   ],
   "source": [
    "import random\n",
    "\n",
    "# Definir las variables y dominios\n",
    "examenes = [\"Examen1\", \"Examen2\", \"Examen3\", \"Examen4\", \"Examen5\", \"Examen6\", \"Examen7\"]\n",
    "dias = [\"Lunes\", \"Martes\", \"Miercoles\"]\n",
    "\n",
    "# Relaciones entre estudiantes y exámenes\n",
    "estudiantes_examenes = [\n",
    "    (\"Estudiante1\", \"Examen1\"),\n",
    "    (\"Estudiante1\", \"Examen2\"),\n",
    "    (\"Estudiante2\", \"Examen2\"),\n",
    "    (\"Estudiante2\", \"Examen3\"),\n",
    "    (\"Estudiante3\", \"Examen3\"),\n",
    "    (\"Estudiante3\", \"Examen4\"),\n",
    "    (\"Estudiante4\", \"Examen4\"),\n",
    "    (\"Estudiante4\", \"Examen5\"),\n",
    "    (\"Estudiante1\", \"Examen6\"),\n",
    "    (\"Estudiante2\", \"Examen6\"),\n",
    "    (\"Estudiante3\", \"Examen7\"),\n",
    "    (\"Estudiante4\", \"Examen7\"),\n",
    "]\n",
    "\n",
    "# Asignar un día inicial aleatorio a cada examen\n",
    "solucion_inicial = {examen: random.choice(dias) for examen in examenes}\n",
    "\n",
    "# Definir la función de restricciones\n",
    "def restricciones(solucion):\n",
    "    # Comprobar que todos los exámenes se realicen en días diferentes\n",
    "    if len(set(solucion.values())) < len(examenes):\n",
    "        return False\n",
    "    \n",
    "    # Comprobar que ningún estudiante tenga más de un examen por día\n",
    "    for estudiante in set(estudiante for estudiante, examen in estudiantes_examenes):\n",
    "        dias_examenes_estudiante = [solucion[examen] for estudiante_, examen in estudiantes_examenes if estudiante_ == estudiante]\n",
    "        if len(dias_examenes_estudiante) != len(set(dias_examenes_estudiante)):\n",
    "            return False\n",
    "    \n",
    "    # Comprobar que los estudiantes que toman el mismo curso no tengan exámenes el mismo día\n",
    "    for estudiante1, examen1 in estudiantes_examenes:\n",
    "        for estudiante2, examen2 in estudiantes_examenes:\n",
    "            if examen1 == examen2 and estudiante1 != estudiante2:\n",
    "                if solucion[examen1] == solucion[examen2]:\n",
    "                    return False\n",
    "\n",
    "    return True\n",
    "\n",
    "# Algoritmo de búsqueda local\n",
    "def local_search(solucion):\n",
    "    iteraciones = 0\n",
    "    while not restricciones(solucion) and iteraciones < 1000:\n",
    "        # Seleccionar un examen al azar y cambiar su día\n",
    "        examen_aleatorio = random.choice(examenes)\n",
    "        solucion[examen_aleatorio] = random.choice(dias)\n",
    "        iteraciones += 1\n",
    "    return solucion\n",
    "\n",
    "\n",
    "solucion_final = local_search(solucion_inicial)\n",
    "print(\"Solución final:\", solucion_final)\n",
    "\n"
   ]
  }
 ],
 "metadata": {
  "kernelspec": {
   "display_name": "Python 3",
   "language": "python",
   "name": "python3"
  },
  "language_info": {
   "codemirror_mode": {
    "name": "ipython",
    "version": 3
   },
   "file_extension": ".py",
   "mimetype": "text/x-python",
   "name": "python",
   "nbconvert_exporter": "python",
   "pygments_lexer": "ipython3",
   "version": "3.12.1"
  }
 },
 "nbformat": 4,
 "nbformat_minor": 2
}
